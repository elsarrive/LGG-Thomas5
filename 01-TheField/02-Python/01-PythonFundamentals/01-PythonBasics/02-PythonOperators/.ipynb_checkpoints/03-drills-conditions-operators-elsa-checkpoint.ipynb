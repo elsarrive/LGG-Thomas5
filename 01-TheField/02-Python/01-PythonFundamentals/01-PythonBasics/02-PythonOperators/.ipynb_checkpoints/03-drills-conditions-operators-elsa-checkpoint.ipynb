{
 "cells": [
  {
   "cell_type": "markdown",
   "metadata": {},
   "source": [
    "# Drill : Basics python syntax\n"
   ]
  },
  {
   "cell_type": "markdown",
   "metadata": {},
   "source": [
    "In some of these exercises, you will have to use methods that you have not seen yet. In this case, search on google for an example of use. Take the right habits to avoid being blocked"
   ]
  },
  {
   "cell_type": "markdown",
   "metadata": {},
   "source": [
    "Run all cells before starting the tests."
   ]
  },
  {
   "cell_type": "markdown",
   "metadata": {},
   "source": [
    "**1. Create a variable `age` that contains value 32**"
   ]
  },
  {
   "cell_type": "code",
   "execution_count": 1,
   "metadata": {},
   "outputs": [],
   "source": [
    "age = 32"
   ]
  },
  {
   "cell_type": "markdown",
   "metadata": {},
   "source": [
    "**2. Add 10 to variable `age`**"
   ]
  },
  {
   "cell_type": "code",
   "execution_count": 2,
   "metadata": {},
   "outputs": [
    {
     "name": "stdout",
     "output_type": "stream",
     "text": [
      "42\n"
     ]
    }
   ],
   "source": [
    "age += 10\n",
    "print(age)"
   ]
  },
  {
   "cell_type": "markdown",
   "metadata": {},
   "source": [
    "**3. Create a variable `divAge` and assign it the value of the age divided by 7**  \n",
    "- ❗ Be careful, it must be an integer."
   ]
  },
  {
   "cell_type": "code",
   "execution_count": 4,
   "metadata": {},
   "outputs": [
    {
     "name": "stdout",
     "output_type": "stream",
     "text": [
      "6\n"
     ]
    }
   ],
   "source": [
    "div_age = 7\n",
    "divAge = age // div_age\n",
    "print(divAge)"
   ]
  },
  {
   "cell_type": "markdown",
   "metadata": {},
   "source": [
    "**4. Create a variable `text_div` that contains the character string \"42 divided by 7 equals 6\".**  \n",
    "- You must use the `age` and `div_age` variables"
   ]
  },
  {
   "cell_type": "code",
   "execution_count": 7,
   "metadata": {},
   "outputs": [
    {
     "name": "stdout",
     "output_type": "stream",
     "text": [
      "42 divided by 7 equals 6\n"
     ]
    }
   ],
   "source": [
    "text_div = f\"{age} divided by {div_age} equals {divAge}\"\n",
    "print(text_div)"
   ]
  },
  {
   "cell_type": "markdown",
   "metadata": {},
   "source": [
    "**5. Create a variable `rest_div` that contains the rest of the variable `age` divided by 7**"
   ]
  },
  {
   "cell_type": "code",
   "execution_count": 16,
   "metadata": {},
   "outputs": [
    {
     "name": "stdout",
     "output_type": "stream",
     "text": [
      "6.0\n"
     ]
    }
   ],
   "source": [
    "rest_div = age / div_age\n",
    "print(rest_div)"
   ]
  },
  {
   "cell_type": "markdown",
   "metadata": {},
   "source": [
    "**6. Create a variable `exp_div` that contains the value of `rest_div` to the 3rd power**"
   ]
  },
  {
   "cell_type": "code",
   "execution_count": 17,
   "metadata": {},
   "outputs": [
    {
     "name": "stdout",
     "output_type": "stream",
     "text": [
      "216.0\n"
     ]
    }
   ],
   "source": [
    "exp_div = rest_div ** 3\n",
    "print(exp_div)"
   ]
  },
  {
   "cell_type": "markdown",
   "metadata": {},
   "source": [
    "**7. Write a program that enters an integer and then displays the value entered and its type.**"
   ]
  },
  {
   "cell_type": "code",
   "execution_count": 32,
   "metadata": {},
   "outputs": [
    {
     "name": "stdout",
     "output_type": "stream",
     "text": [
      "9.5 is not an integer (<class 'float'>)\n",
      "42 is effectivelly an integer (<class 'int'>)\n"
     ]
    }
   ],
   "source": [
    "def is_integer(integ):\n",
    "    if isinstance(integ, int):\n",
    "        print(f\"{integ} is effectivelly an integer ({type(integ)})\")\n",
    "    else:\n",
    "        print(f\"{integ} is not an integer ({type(integ)})\")\n",
    "\n",
    "is_integer(9.5)\n",
    "is_integer(age)"
   ]
  },
  {
   "cell_type": "markdown",
   "metadata": {},
   "source": [
    "**8. Use variables to represent the price of materials.**  \n",
    "- 2 bottles of milk at €0.45 each\n",
    "- 3 bottles of raw cider at €3.85 each\n",
    "- 1 bag of flour at 0.9 €\n",
    "- 1 packet of butter at €0.77\n",
    "- 1 jar of nutella at €1.87  \n",
    "\n",
    "**Calculate the sum of all items and store it in a `order_price` variable**"
   ]
  },
  {
   "cell_type": "code",
   "execution_count": 38,
   "metadata": {},
   "outputs": [
    {
     "name": "stdout",
     "output_type": "stream",
     "text": [
      "15.99\n"
     ]
    }
   ],
   "source": [
    "milk = {\n",
    "    \"number\" : 2,\n",
    "    \"price\" : 0.45 }\n",
    "\n",
    "raw_cider = {\n",
    "    \"number\" : 3,\n",
    "    \"price\" : 3.85}\n",
    "\n",
    "flour = {\n",
    "    \"number\" : 1,\n",
    "    \"price\" : 0.9 }\n",
    "\n",
    "butter = {\n",
    "    \"number\" : 1,\n",
    "    \"price\" : 0.77 }\n",
    "\n",
    "nutella = {\n",
    "    \"number\" : 1,\n",
    "    \"price\" : 1.87 }\n",
    "\n",
    "order = [milk, raw_cider, flour, butter, nutella]\n",
    "\n",
    "order_price = sum(items[\"number\"] * items[\"price\"] for items in order)\n",
    "\n",
    "print(order_price)"
   ]
  },
  {
   "cell_type": "markdown",
   "metadata": {},
   "source": [
    "**Create a variable `allowance_money` which has a value of 20 and then create an algorithm that calculates the available money by subtracting the price of the order.**\n",
    "\n",
    "If there is enough money, record the following sentence in the variable `message` and subtract the expense from `allowance_money` : \n",
    "- message = \"You have spent\" + `order_price` + \"you have left\" + `allowance_money` \n",
    "\n",
    "If there is not enough money, record the following sentence in the `message` variable: \n",
    "- message= \"Sorry you're missing *amount_missing* euros\" \n",
    "\n",
    "If there is 0 left, record the following sentence in the `message` variable: \n",
    "- message = \"You are broke!\"\n"
   ]
  },
  {
   "cell_type": "code",
   "execution_count": 40,
   "metadata": {},
   "outputs": [
    {
     "name": "stdout",
     "output_type": "stream",
     "text": [
      "You have spent 15.99 you have left 4.01\n"
     ]
    }
   ],
   "source": [
    "message = \"\"\n",
    "allowance_money = 20\n",
    "\n",
    "if order_price < allowance_money : \n",
    "    message = f\"You have spent {order_price} you have left {allowance_money - order_price}\"\n",
    "\n",
    "elif order_price > allowance_money : \n",
    "    message = f\"Sorry you're missing {order_price - allowance_money} euros\"\n",
    "\n",
    "else : \n",
    "    message = \"You are broke!\"\n",
    "\n",
    "print(message)\n"
   ]
  },
  {
   "cell_type": "markdown",
   "metadata": {},
   "source": [
    "**9. Write a program that asks you to enter 2 values and displays the smallest of the 2 values**"
   ]
  },
  {
   "cell_type": "code",
   "execution_count": 44,
   "metadata": {},
   "outputs": [
    {
     "name": "stdout",
     "output_type": "stream",
     "text": [
      "9\n"
     ]
    }
   ],
   "source": [
    "def smallest(val1, val2): return val2 if val2 < val1 else val1\n",
    "\n",
    "print(smallest(9,45))"
   ]
  },
  {
   "cell_type": "markdown",
   "metadata": {},
   "source": [
    "**10. Write a script that asks you to enter 2 strings and displays the largest of the 2 strings (the one with the most characters).**"
   ]
  },
  {
   "cell_type": "code",
   "execution_count": 47,
   "metadata": {},
   "outputs": [
    {
     "name": "stdout",
     "output_type": "stream",
     "text": [
      "un cheval dans la prairie\n"
     ]
    }
   ],
   "source": [
    "def longest_sentence(sent1, sent2): return sent1 if len(sent1) > len(sent2) else sent2\n",
    "\n",
    "print(longest_sentence(\"un chat dans la prairie\", \"un cheval dans la prairie\"))"
   ]
  },
  {
   "cell_type": "markdown",
   "metadata": {},
   "source": [
    "**11. Write a script that converts euros into dollars.**\n",
    "- The program will start by asking the user to indicate with a character 'E' or '$' depending on the currency of the amount they are entering.\n",
    "- Then the program will ask you to enter the amount and display the conversion."
   ]
  },
  {
   "cell_type": "code",
   "execution_count": 127,
   "metadata": {},
   "outputs": [
    {
     "name": "stdin",
     "output_type": "stream",
     "text": [
      "What do you want to convert (€ or $) ? :  6543\n"
     ]
    },
    {
     "name": "stdout",
     "output_type": "stream",
     "text": [
      "You have to enter € or $\n"
     ]
    },
    {
     "name": "stdin",
     "output_type": "stream",
     "text": [
      "What do you want to convert (€ or $) ? :  E\n",
      "Enter an amount :  717.93\n"
     ]
    },
    {
     "name": "stdout",
     "output_type": "stream",
     "text": [
      "717.93 euros are 780.36 dollars\n"
     ]
    },
    {
     "name": "stdin",
     "output_type": "stream",
     "text": [
      "Do you want convert another amount? (yes/no) YES\n",
      "Enter an amount :  66\n"
     ]
    },
    {
     "name": "stdout",
     "output_type": "stream",
     "text": [
      "66.0 euros are 71.74 dollars\n"
     ]
    },
    {
     "name": "stdin",
     "output_type": "stream",
     "text": [
      "Do you want convert another amount? (yes/no) NO\n"
     ]
    },
    {
     "name": "stdout",
     "output_type": "stream",
     "text": [
      "Goodbye! =D\n"
     ]
    }
   ],
   "source": [
    "def euro_to_dollar(how_much):\n",
    "    return f\"{how_much} euros are {round(how_much / 0.92, 2)} dollars\"\n",
    "\n",
    "def dollar_to_euro(how_much):\n",
    "    return f\"{how_much} dollars are {round(how_much * 0.92, 2)} euros\"\n",
    "\n",
    "def conversion():\n",
    "    while True:\n",
    "        what_convert = input(\"What do you want to convert (€ or $) ? : \")\n",
    "        \n",
    "        if what_convert not in [\"E\", \"e\", \"€\", \"$\"]:\n",
    "            print(\"You have to enter € or $\")\n",
    "            continue\n",
    "            \n",
    "        else:\n",
    "            while True:\n",
    "                how_much = input(\"Enter an amount : \")\n",
    "                try:\n",
    "                    how_much = float(how_much)\n",
    "                    if what_convert in [\"E\", \"e\", \"€\"]:\n",
    "                        print(euro_to_dollar(how_much))\n",
    "    \n",
    "                    elif what_convert == \"$\":\n",
    "                        print(dollar_to_euro(how_much))\n",
    "\n",
    "                    continue_transaction = input(\"Do you want convert another amount? (yes/no)\").strip().lower()\n",
    "                    if continue_transaction != \"yes\": \n",
    "                        print(\"Goodbye! =D\")\n",
    "                        break\n",
    "\n",
    "                except ValueError:\n",
    "                    print(\"You have to enter a number!\")\n",
    "                    \n",
    "\n",
    "print(conversion())"
   ]
  },
  {
   "cell_type": "markdown",
   "metadata": {},
   "source": [
    "**12. Check if the variable `name` is in the `students_turing` list. (Without making a loop)** \n",
    "* If the name is in the list, display \"You are at the turing's\".\n",
    "* Otherwise display: \"You are not part of the turing's\""
   ]
  },
  {
   "cell_type": "code",
   "execution_count": 140,
   "metadata": {},
   "outputs": [
    {
     "name": "stdout",
     "output_type": "stream",
     "text": [
      "You are not part of the turing's\n"
     ]
    }
   ],
   "source": [
    "studentsTuring = [\"Redouane\", \"Justine\", \"Ruben\", \"Edouard\"]\n",
    "name = \"Julie\""
   ]
  },
  {
   "cell_type": "code",
   "execution_count": null,
   "metadata": {},
   "outputs": [],
   "source": [
    "print(\"You are at the turing's\" if name in studentsTuring else \"You are not part of the turing's\")"
   ]
  },
  {
   "cell_type": "markdown",
   "metadata": {},
   "source": [
    "**13. Calculate the volume of a sphere using the formula *(4π/3) x R³*. The radius is 10.**  \n",
    "- Save the result in a \"volume\" variable.\n"
   ]
  },
  {
   "cell_type": "code",
   "execution_count": 141,
   "metadata": {},
   "outputs": [
    {
     "name": "stdout",
     "output_type": "stream",
     "text": [
      "4188.790204786391\n"
     ]
    }
   ],
   "source": [
    "from math import pi \n",
    "\n",
    "def volume_sphere(radius):\n",
    "    return (4*pi / 3) * (radius**3)\n",
    "\n",
    "volume = volume_sphere(10)\n",
    "print(volume)"
   ]
  },
  {
   "cell_type": "code",
   "execution_count": null,
   "metadata": {},
   "outputs": [],
   "source": []
  }
 ],
 "metadata": {
  "kernelspec": {
   "display_name": "Python 3 (ipykernel)",
   "language": "python",
   "name": "python3"
  },
  "language_info": {
   "codemirror_mode": {
    "name": "ipython",
    "version": 3
   },
   "file_extension": ".py",
   "mimetype": "text/x-python",
   "name": "python",
   "nbconvert_exporter": "python",
   "pygments_lexer": "ipython3",
   "version": "3.13.2"
  },
  "vscode": {
   "interpreter": {
    "hash": "5af58ead5434bcaec4ba320c097b4ab95f4d47b5cc097d838e053a401accc545"
   }
  }
 },
 "nbformat": 4,
 "nbformat_minor": 4
}
