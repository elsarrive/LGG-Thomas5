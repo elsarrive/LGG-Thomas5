{
 "cells": [
  {
   "cell_type": "markdown",
   "metadata": {},
   "source": [
    "# Drill functions"
   ]
  },
  {
   "cell_type": "markdown",
   "metadata": {},
   "source": [
    "### 1. Say Hello\n",
    "Write a function called `hello` that returns a string of characters. This function will take as argument a variable `name`. This function will return a string `\"Hello name\"`."
   ]
  },
  {
   "cell_type": "markdown",
   "metadata": {},
   "source": [
    "Example :\n",
    "<pre><code>hello('Jean') => 'Hello Jean'</code></pre>\n",
    "<pre><code>hello() => 'Hello Anonymous' </code></pre>"
   ]
  },
  {
   "cell_type": "code",
   "execution_count": 264,
   "metadata": {},
   "outputs": [
    {
     "data": {
      "text/plain": [
       "'Hello Robin'"
      ]
     },
     "execution_count": 264,
     "metadata": {},
     "output_type": "execute_result"
    }
   ],
   "source": [
    "def hello(name=\"Anonymous\"):\n",
    "    return f\"Hello {name}\"\n",
    "\n",
    "hello()\n",
    "hello(\"Robin\")"
   ]
  },
  {
   "cell_type": "markdown",
   "metadata": {},
   "source": [
    "### 2. Count students\n",
    "Create a function `sum_of_students` that calculates and counts the number of students in a list and returns the total. The function will have to return an integer."
   ]
  },
  {
   "cell_type": "markdown",
   "metadata": {},
   "source": [
    "Example : \n",
    "```\n",
    "sum_of_students([[\"Jean\", \"Alice\", \"Edwige\", \"Peter\", \"James\"],\n",
    "               [\"Redouane\", \"Justine\", \"Adrien\", \"Nicolas\", \"Pierre\"]]) => 10\n",
    "```"
   ]
  },
  {
   "cell_type": "code",
   "execution_count": 265,
   "metadata": {},
   "outputs": [
    {
     "data": {
      "text/plain": [
       "10"
      ]
     },
     "execution_count": 265,
     "metadata": {},
     "output_type": "execute_result"
    }
   ],
   "source": [
    "students = [[\"Jean\", \"Alice\", \"Edwige\", \"Peter\", \"James\"],[\"Redouane\", \"Justine\", \"Adrien\", \"Nicolas\", \"Pierre\"]]\n",
    "\n",
    "def sum_of_students(students):\n",
    "    total = 0\n",
    "    for list_of_students in students:\n",
    "        total+= len(list_of_students)\n",
    "    \n",
    "    return total\n",
    "    \n",
    "sum_of_students(students)\n"
   ]
  },
  {
   "cell_type": "markdown",
   "metadata": {},
   "source": [
    "### 3.  Is divisible ?\n",
    "Create a function `is_divisible(n, x, y)` that checks if a number `n` is divisible by two numbers `x` AND `y`. All inputs are positive, non-zero digits."
   ]
  },
  {
   "cell_type": "markdown",
   "metadata": {},
   "source": [
    "Example:\n",
    "```\n",
    "is_divisible(3, 1, 3)--> True because 3 is divisible by 1 and 3\n",
    "is_divisible(12, 2, 6)--> True because 12 is divisible by 2 and 6\n",
    "is_divisible(100, 5, 3)--> False because 100 is not divisible by 3\n",
    "is_divisible(12, 7, 5)--> False because 12 is neither divisible by 7 nor 5\n",
    "```"
   ]
  },
  {
   "cell_type": "code",
   "execution_count": 266,
   "metadata": {},
   "outputs": [
    {
     "data": {
      "text/plain": [
       "\"integer modulo by zero : You can't divide by 0\""
      ]
     },
     "execution_count": 266,
     "metadata": {},
     "output_type": "execute_result"
    }
   ],
   "source": [
    "def is_divisible(n, x, y):\n",
    "    try: \n",
    "        return True if (n % x == 0 and n % y == 0) else False\n",
    "    \n",
    "    except ZeroDivisionError as e:\n",
    "        return f\"{e} : You can't divide by 0\"\n",
    "    \n",
    "is_divisible(12, 0, 6)"
   ]
  },
  {
   "cell_type": "markdown",
   "metadata": {},
   "source": [
    "### 4. Abbreviate a two-word name\n",
    "Write a function to convert a name into initials. This functions strictly takes two words with one space in between them."
   ]
  },
  {
   "cell_type": "markdown",
   "metadata": {},
   "source": [
    "Example : \n",
    "```\n",
    "Sam Harris => S.H\n",
    "\n",
    "Patrick Feeney => P.F\n",
    "```"
   ]
  },
  {
   "cell_type": "code",
   "execution_count": 267,
   "metadata": {},
   "outputs": [
    {
     "name": "stdout",
     "output_type": "stream",
     "text": [
      "<class 'str'>\n",
      "<class 'str'>\n"
     ]
    },
    {
     "data": {
      "text/plain": [
       "'S.H'"
      ]
     },
     "execution_count": 267,
     "metadata": {},
     "output_type": "execute_result"
    }
   ],
   "source": [
    "def abbreviate_name(name):\n",
    "    list_init = []\n",
    "    list_name = name.split(\" \") #convert a string to a list, split by spaces\n",
    "    for name in list_name:\n",
    "        list_init+= name[0] #add char[0] for each element in the list \n",
    "    inits = \".\".join(list_init) #add each char[0] in a new sentence, split by .\n",
    "    return inits\n",
    "\n",
    "\n",
    "print(type(inits))\n",
    "print(type(abbreviate_name(\"Patrick Feeney\")))\n",
    "abbreviate_name(\"Sam Harris\")"
   ]
  },
  {
   "cell_type": "markdown",
   "metadata": {},
   "source": [
    "### 5. Sum of positive \n",
    "You get an array of numbers, return the sum of all of the positives ones."
   ]
  },
  {
   "cell_type": "markdown",
   "metadata": {},
   "source": [
    "Example :  \n",
    "` [1,-4,7,12] => 1 + 7 + 12 = 20`"
   ]
  },
  {
   "cell_type": "code",
   "execution_count": 268,
   "metadata": {},
   "outputs": [
    {
     "data": {
      "text/plain": [
       "20"
      ]
     },
     "execution_count": 268,
     "metadata": {},
     "output_type": "execute_result"
    }
   ],
   "source": [
    "def positive_sum(numbers):\n",
    "    positive_numbers = sum([number for number in numbers if number > 0])\n",
    "    return positive_numbers\n",
    "\n",
    "positive_sum([1, -4, 7, 12])\n"
   ]
  },
  {
   "cell_type": "markdown",
   "metadata": {},
   "source": [
    "### 6. Sum mixed array \n",
    "\n",
    "Given an array of integers as strings and numbers, return the sum of the array values as if all were numbers.\n",
    "\n",
    "Return your answer as a number.\n"
   ]
  },
  {
   "cell_type": "markdown",
   "metadata": {},
   "source": [
    "Example : \n",
    "```\n",
    "mixed_sum(['5', '0', 9, 3, 2, 1, '9', 6, 7]) => 42\n",
    "```"
   ]
  },
  {
   "cell_type": "code",
   "execution_count": 269,
   "metadata": {},
   "outputs": [
    {
     "name": "stdout",
     "output_type": "stream",
     "text": [
      "There is something else than numbers here\n"
     ]
    },
    {
     "data": {
      "text/plain": [
       "39.0"
      ]
     },
     "execution_count": 269,
     "metadata": {},
     "output_type": "execute_result"
    }
   ],
   "source": [
    "def mixed_sum(array):\n",
    "    mixed = []\n",
    "    for elements in array:\n",
    "        try:\n",
    "            elements = float(elements)\n",
    "            mixed.append(elements)\n",
    "        \n",
    "        except ValueError: \n",
    "            print(\"There is something else than numbers here\")\n",
    "\n",
    "    mixed = sum(mixed)\n",
    "    return mixed \n",
    "\n",
    "mixed_sum(['5', '0', 9, \"blablabla\", 2, 1, '9', 6, 7])"
   ]
  },
  {
   "cell_type": "markdown",
   "metadata": {},
   "source": [
    "### 7. Return the day\n",
    "Complete the function which returns the weekday according to the input number:\n",
    "\n",
    "    1 returns \"Sunday\"\n",
    "    2 returns \"Monday\"\n",
    "    3 returns \"Tuesday\"\n",
    "    4 returns \"Wednesday\"\n",
    "    5 returns \"Thursday\"\n",
    "    6 returns \"Friday\"\n",
    "    7 returns \"Saturday\"\n",
    "    Otherwise returns \"Wrong, please enter a number between 1 and 7\"\n",
    "\n"
   ]
  },
  {
   "cell_type": "code",
   "execution_count": 270,
   "metadata": {},
   "outputs": [
    {
     "name": "stdout",
     "output_type": "stream",
     "text": [
      "Monday\n",
      "Friday\n"
     ]
    }
   ],
   "source": [
    "def what_day(number):\n",
    "    weekdays = [\"Sunday\", \"Monday\", \"Tuesday\", \"Wednesday\", \"Thursday\", \"Friday\", \"Saturday\"]\n",
    "    if number in range(1,8):\n",
    "        return weekdays[number - 1]\n",
    "    else: \n",
    "        return \"Wrong, please enter a number between 1 and 7\"\n",
    "\n",
    "print(what_day(2))\n",
    "print(what_day(6))"
   ]
  },
  {
   "cell_type": "markdown",
   "metadata": {},
   "source": [
    "### 8. Summation\n",
    "Write a program that finds the summation of every number from 1 to `number`. The number will always be a positive integer greater than 0.\n"
   ]
  },
  {
   "cell_type": "markdown",
   "metadata": {},
   "source": [
    "Example : \n",
    "```\n",
    "    summation(2) -> 3\n",
    "    1 + 2\n",
    "\n",
    "    summation(8) -> 36\n",
    "    1 + 2 + 3 + 4 + 5 + 6 + 7 + 8\n",
    "```"
   ]
  },
  {
   "cell_type": "code",
   "execution_count": 271,
   "metadata": {},
   "outputs": [
    {
     "name": "stdout",
     "output_type": "stream",
     "text": [
      "36\n"
     ]
    },
    {
     "data": {
      "text/plain": [
       "'Must be an integer: you have to enter a number'"
      ]
     },
     "execution_count": 271,
     "metadata": {},
     "output_type": "execute_result"
    }
   ],
   "source": [
    "def summation(number):\n",
    "    try:\n",
    "        if not isinstance(number, int):\n",
    "            raise TypeError(\"Must be an integer\")\n",
    "        \n",
    "        elif number > 0:\n",
    "            summation = sum(x for x in range(1, number + 1))\n",
    "            return summation\n",
    "        \n",
    "        else: \n",
    "            return \"You have to enter a number greater than 0\"\n",
    "    \n",
    "    except TypeError as e: \n",
    "        return f\"{e}: you have to enter a number\"\n",
    "\n",
    "print(summation(8))\n",
    "summation(\"youuuuu\")"
   ]
  },
  {
   "cell_type": "markdown",
   "metadata": {},
   "source": [
    "### 9. If you can't sleep, just count sheep!!"
   ]
  },
  {
   "cell_type": "markdown",
   "metadata": {},
   "source": [
    "Given a non-negative integer, 3 for example, return a string saying: \"1 sheep...2 sheep...3 sheep...\". Input will always be valid, i.e. no negative integers."
   ]
  },
  {
   "cell_type": "code",
   "execution_count": 272,
   "metadata": {},
   "outputs": [
    {
     "data": {
      "text/plain": [
       "'1 sheep...'"
      ]
     },
     "execution_count": 272,
     "metadata": {},
     "output_type": "execute_result"
    }
   ],
   "source": [
    "def count_sheep(number):\n",
    "    countage = \"\"\n",
    "    if not isinstance(number, int):\n",
    "        print(\"you have to enter a number\")\n",
    "    \n",
    "    elif number <= 0: \n",
    "        print(\"you have to enter a positive number!\")\n",
    "\n",
    "    else: \n",
    "        for i in range(1, number + 1):\n",
    "            countage += f\"{i} sheep...\"\n",
    "    \n",
    "    return countage\n",
    "\n",
    "\n",
    "count_sheep(1)"
   ]
  },
  {
   "cell_type": "markdown",
   "metadata": {},
   "source": [
    "### 10. Student's final grade \n",
    "Create a function `final_grade`, which calculates the final grade of a student depending on two parameters: a grade for the `exam_grade` and a number of completed projects.\n",
    "\n",
    "This function should take two arguments: `exam_grade`, grade of the exam (from 0 to 100), and `completed_projects`, number of completed projects (0 and above).\n",
    "\n",
    "This function should return a number, i.e. the final grade. There are four types of final grades:\n",
    "\n",
    "    100, if a grade for the exam is more than 90 or if the number of completed projects more than 10.\n",
    "    90, if a grade for the exam is more than 75 and if the number of completed projects is minimum 5.\n",
    "    75, if a grade for the exam is more than 50 and if the number of completed projects is minimum 2.\n",
    "    0, in other cases\n"
   ]
  },
  {
   "cell_type": "code",
   "execution_count": 273,
   "metadata": {},
   "outputs": [
    {
     "name": "stdout",
     "output_type": "stream",
     "text": [
      "90\n"
     ]
    }
   ],
   "source": [
    "def final_grade(exam_grade, completed_projects):\n",
    "    if exam_grade > 90 or completed_projects > 10: \n",
    "        return 100\n",
    "    \n",
    "    elif exam_grade > 75 or completed_projects >= 5: \n",
    "        return 90\n",
    "    \n",
    "    elif exam_grade > 50 or completed_projects >= 2: \n",
    "        return 75\n",
    "    \n",
    "    else:\n",
    "        return 0\n",
    "\n",
    "print(final_grade(38,8))"
   ]
  },
  {
   "cell_type": "markdown",
   "metadata": {},
   "source": [
    "## Testing"
   ]
  },
  {
   "cell_type": "markdown",
   "metadata": {},
   "source": [
    "Do not touch the code, just run it"
   ]
  },
  {
   "cell_type": "code",
   "execution_count": 274,
   "metadata": {},
   "outputs": [
    {
     "name": "stderr",
     "output_type": "stream",
     "text": [
      "test_abbreviate_name (__main__.TestNotebook.test_abbreviate_name) ... ok\n",
      "test_count_sheep (__main__.TestNotebook.test_count_sheep) ... ok\n",
      "test_final_grade (__main__.TestNotebook.test_final_grade) ... ok\n",
      "test_hello (__main__.TestNotebook.test_hello) ... ok\n",
      "test_is_divisible (__main__.TestNotebook.test_is_divisible) ... ok\n",
      "test_positive_sum (__main__.TestNotebook.test_positive_sum) ... ok\n",
      "test_return_day (__main__.TestNotebook.test_return_day) ... ok\n",
      "test_sum_mixed_array (__main__.TestNotebook.test_sum_mixed_array) ... ok\n",
      "test_sum_of_students (__main__.TestNotebook.test_sum_of_students) ... ok\n",
      "test_summation (__main__.TestNotebook.test_summation) ... ok\n",
      "\n",
      "----------------------------------------------------------------------\n",
      "Ran 10 tests in 0.028s\n",
      "\n",
      "OK\n"
     ]
    },
    {
     "data": {
      "text/plain": [
       "<unittest.main.TestProgram at 0x21f740345a0>"
      ]
     },
     "execution_count": 274,
     "metadata": {},
     "output_type": "execute_result"
    }
   ],
   "source": [
    "import unittest\n",
    "\n",
    "\n",
    "class TestNotebook(unittest.TestCase):\n",
    "    def test_hello(self):\n",
    "        self.assertEqual(hello(), \"Hello Anonymous\")\n",
    "        self.assertEqual(hello(\"Jean\"), \"Hello Jean\")\n",
    "\n",
    "    def test_sum_of_students(self):\n",
    "        self.assertEqual(\n",
    "            sum_of_students(\n",
    "                [\n",
    "                    [\"Jean\", \"Alice\", \"Edwige\", \"Peter\", \"James\"],\n",
    "                    [\"Redouane\", \"Justine\", \"Adrien\", \"Nicolas\", \"Pierre\"],\n",
    "                ]\n",
    "            ),\n",
    "            10,\n",
    "        )\n",
    "\n",
    "    def test_is_divisible(self):\n",
    "        self.assertEqual(is_divisible(3, 3, 4), False)\n",
    "        self.assertEqual(is_divisible(12, 3, 4), True)\n",
    "        self.assertEqual(is_divisible(8, 3, 4), False)\n",
    "        self.assertEqual(is_divisible(48, 3, 4), True)\n",
    "\n",
    "    def test_abbreviate_name(self):\n",
    "        self.assertEqual(abbreviate_name(\"Sam Harris\"), \"S.H\")\n",
    "        self.assertEqual(abbreviate_name(\"Patrick Feenan\"), \"P.F\")\n",
    "        self.assertEqual(abbreviate_name(\"Evan Cole\"), \"E.C\")\n",
    "        self.assertEqual(abbreviate_name(\"P Favuzzi\"), \"P.F\")\n",
    "        self.assertEqual(abbreviate_name(\"David Mendieta\"), \"D.M\")\n",
    "\n",
    "    def test_positive_sum(self):\n",
    "        self.assertEqual(positive_sum([1, 2, 3, 4, 5]), 15)\n",
    "        self.assertEqual(positive_sum([1, -2, 3, 4, 5]), 13)\n",
    "        self.assertEqual(positive_sum([-1, 2, 3, 4, -5]), 9)\n",
    "        self.assertEqual(positive_sum([]), 0)\n",
    "        self.assertEqual(positive_sum([-1, -2, -3, -4, -5]), 0)\n",
    "\n",
    "    def test_sum_mixed_array(self):\n",
    "        self.assertEqual(mixed_sum([9, 3, \"7\", \"3\"]), 22)\n",
    "        self.assertEqual(mixed_sum([\"5\", \"0\", 9, 3, 2, 1, \"9\", 6, 7]), 42)\n",
    "        self.assertEqual(mixed_sum([\"3\", 6, 6, 0, \"5\", 8, 5, \"6\", 2, \"0\"]), 41)\n",
    "        self.assertEqual(mixed_sum([\"1\", \"5\", \"8\", 8, 9, 9, 2, \"3\"]), 45)\n",
    "        self.assertEqual(mixed_sum([8, 0, 0, 8, 5, 7, 2, 3, 7, 8, 6, 7]), 61)\n",
    "\n",
    "    def test_return_day(self):\n",
    "        self.assertEqual(what_day(1), \"Sunday\")\n",
    "        self.assertEqual(what_day(2), \"Monday\")\n",
    "        self.assertEqual(what_day(3), \"Tuesday\")\n",
    "        self.assertEqual(what_day(8), \"Wrong, please enter a number between 1 and 7\")\n",
    "        self.assertEqual(what_day(20), \"Wrong, please enter a number between 1 and 7\")\n",
    "\n",
    "    def test_summation(self):\n",
    "        self.assertEqual(summation(1), 1)\n",
    "        self.assertEqual(summation(8), 36)\n",
    "\n",
    "    def test_count_sheep(self):\n",
    "        self.assertEqual(count_sheep(1), \"1 sheep...\")\n",
    "        self.assertEqual(count_sheep(2), \"1 sheep...2 sheep...\")\n",
    "        self.assertEqual(count_sheep(3), \"1 sheep...2 sheep...3 sheep...\")\n",
    "\n",
    "    def test_final_grade(self):\n",
    "        self.assertEqual(final_grade(100, 12), 100)\n",
    "        self.assertEqual(final_grade(85, 5), 90)\n",
    "\n",
    "\n",
    "unittest.main(argv=[\"\"], verbosity=2, exit=False)"
   ]
  }
 ],
 "metadata": {
  "kernelspec": {
   "display_name": "Python 3",
   "language": "python",
   "name": "python3"
  },
  "language_info": {
   "codemirror_mode": {
    "name": "ipython",
    "version": 3
   },
   "file_extension": ".py",
   "mimetype": "text/x-python",
   "name": "python",
   "nbconvert_exporter": "python",
   "pygments_lexer": "ipython3",
   "version": "3.13.2"
  }
 },
 "nbformat": 4,
 "nbformat_minor": 2
}
