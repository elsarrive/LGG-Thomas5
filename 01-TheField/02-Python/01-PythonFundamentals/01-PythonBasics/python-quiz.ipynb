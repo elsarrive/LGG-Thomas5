{
 "cells": [
  {
   "cell_type": "markdown",
   "metadata": {},
   "source": [
    "# Quizz 1 - Python basics"
   ]
  },
  {
   "cell_type": "markdown",
   "metadata": {},
   "source": [
    "## a) type"
   ]
  },
  {
   "cell_type": "markdown",
   "metadata": {},
   "source": [
    "### Create a variable `string` containing `\"toto\"` and a variable `number` containing the number 10."
   ]
  },
  {
   "cell_type": "code",
   "execution_count": 16,
   "metadata": {},
   "outputs": [],
   "source": [
    "string_type = \"toto\"\n",
    "number_type = 10"
   ]
  },
  {
   "cell_type": "markdown",
   "metadata": {},
   "source": [
    "### Reverse the contents of the variables `string` and `number` (from line 1)."
   ]
  },
  {
   "cell_type": "code",
   "execution_count": 17,
   "metadata": {},
   "outputs": [
    {
     "name": "stdout",
     "output_type": "stream",
     "text": [
      "otot\n",
      "01\n"
     ]
    }
   ],
   "source": [
    "string_type = string_type[::-1]\n",
    "print(string_type)\n",
    "\n",
    "number_type = str(number_type)[::-1]\n",
    "print(number_type)"
   ]
  },
  {
   "cell_type": "markdown",
   "metadata": {},
   "source": [
    "## b) List"
   ]
  },
  {
   "cell_type": "markdown",
   "metadata": {},
   "source": [
    "### Create a list `first_list`  containing the following integers: 1, 3, 2, 7, 4, 10, 46."
   ]
  },
  {
   "cell_type": "code",
   "execution_count": 18,
   "metadata": {},
   "outputs": [],
   "source": [
    "first_list = [1,3,2,7,4,10,46]"
   ]
  },
  {
   "cell_type": "markdown",
   "metadata": {},
   "source": [
    "\n",
    "### Display the first 3 items in `first_list` - in one line of code."
   ]
  },
  {
   "cell_type": "code",
   "execution_count": 19,
   "metadata": {},
   "outputs": [
    {
     "name": "stdout",
     "output_type": "stream",
     "text": [
      "[1, 3, 2]\n"
     ]
    }
   ],
   "source": [
    "print(first_list[:3])"
   ]
  },
  {
   "cell_type": "markdown",
   "metadata": {},
   "source": [
    "### Create a `second_list` that contains only the 3rd, 4th and 5th elements of `first_list` . Your list indexing should use 3 characters at most (not including spaces) - Check your result carefully!"
   ]
  },
  {
   "cell_type": "code",
   "execution_count": 20,
   "metadata": {},
   "outputs": [
    {
     "name": "stdout",
     "output_type": "stream",
     "text": [
      "[2, 7, 4]\n"
     ]
    }
   ],
   "source": [
    "second_list = first_list[2:5]\n",
    "print(second_list)"
   ]
  },
  {
   "cell_type": "markdown",
   "metadata": {},
   "source": [
    "### Concatenate `first_list` and `second_list` to form `third_list`."
   ]
  },
  {
   "cell_type": "code",
   "execution_count": 21,
   "metadata": {},
   "outputs": [
    {
     "name": "stdout",
     "output_type": "stream",
     "text": [
      "[1, 3, 2, 7, 4, 10, 46, 2, 7, 4]\n"
     ]
    }
   ],
   "source": [
    "third_list = first_list + second_list\n",
    "print(third_list)"
   ]
  },
  {
   "cell_type": "markdown",
   "metadata": {},
   "source": [
    "### Using the zip function, associate the values of `first_list` and `second_list` in the variable `tuple_of_lists`."
   ]
  },
  {
   "cell_type": "code",
   "execution_count": 22,
   "metadata": {},
   "outputs": [
    {
     "name": "stdout",
     "output_type": "stream",
     "text": [
      "[(1, 2), (3, 7), (2, 4)]\n"
     ]
    }
   ],
   "source": [
    "tuple_of_list = list(zip(first_list, second_list))\n",
    "print(tuple_of_list)"
   ]
  },
  {
   "cell_type": "markdown",
   "metadata": {},
   "source": [
    "### Add the number 5 to `first_list`."
   ]
  },
  {
   "cell_type": "code",
   "execution_count": 23,
   "metadata": {},
   "outputs": [
    {
     "name": "stdout",
     "output_type": "stream",
     "text": [
      "[1, 3, 2, 7, 4, 10, 46, 5]\n"
     ]
    }
   ],
   "source": [
    "first_list.append(5)\n",
    "print(first_list)"
   ]
  },
  {
   "cell_type": "markdown",
   "metadata": {},
   "source": [
    "### Add a null element to `third_list`."
   ]
  },
  {
   "cell_type": "code",
   "execution_count": 24,
   "metadata": {},
   "outputs": [
    {
     "name": "stdout",
     "output_type": "stream",
     "text": [
      "[1, 3, 2, 7, 4, 10, 46, 2, 7, 4, 0]\n"
     ]
    }
   ],
   "source": [
    "third_list.append(0)\n",
    "print(third_list)"
   ]
  },
  {
   "cell_type": "markdown",
   "metadata": {},
   "source": [
    "### Write a function that takes as arguments a list `my_list` and an integer `n` and returns the result of `n` concatenations of `my_list` with itself."
   ]
  },
  {
   "cell_type": "code",
   "execution_count": 25,
   "metadata": {},
   "outputs": [
    {
     "data": {
      "text/plain": [
       "[[1, 2, 3, 1, 2, 3]]"
      ]
     },
     "execution_count": 25,
     "metadata": {},
     "output_type": "execute_result"
    }
   ],
   "source": [
    "# Example : my_list=[1,2,3], n=2 --> [1,2,3,1,2,3]\n",
    "\n",
    "def concat_list(my_list, n):\n",
    "    return [my_list*n]\n",
    "\n",
    "concat_list([1,2,3], 2)"
   ]
  },
  {
   "cell_type": "markdown",
   "metadata": {},
   "source": [
    "### You want to make parameter `n` optional and set its value to 2 by default. How do you do it?"
   ]
  },
  {
   "cell_type": "code",
   "execution_count": 26,
   "metadata": {},
   "outputs": [
    {
     "data": {
      "text/plain": [
       "[[1, 2, 3, 1, 2, 3]]"
      ]
     },
     "execution_count": 26,
     "metadata": {},
     "output_type": "execute_result"
    }
   ],
   "source": [
    "def concat_list(my_list, n=2):\n",
    "    return [my_list*n]\n",
    "\n",
    "concat_list([1,2,3])"
   ]
  },
  {
   "cell_type": "markdown",
   "metadata": {},
   "source": [
    "###  With a `while` loop, print each element of `third_list` up to the `null` element."
   ]
  },
  {
   "cell_type": "code",
   "execution_count": 63,
   "metadata": {},
   "outputs": [
    {
     "name": "stdout",
     "output_type": "stream",
     "text": [
      "1\n",
      "3\n",
      "2\n",
      "7\n",
      "4\n",
      "10\n",
      "46\n",
      "2\n",
      "7\n",
      "4\n",
      "0\n"
     ]
    }
   ],
   "source": [
    "i = 0\n",
    "while i < len(third_list):\n",
    "    i +=1\n",
    "    for element in third_list:\n",
    "        print(element)\n",
    "        if element == 0: \n",
    "            break\n",
    "    break\n"
   ]
  },
  {
   "cell_type": "markdown",
   "metadata": {},
   "source": [
    "### Calculate, with a `for` loop, the number of even integers present in the list `first_list`."
   ]
  },
  {
   "cell_type": "code",
   "execution_count": 69,
   "metadata": {},
   "outputs": [
    {
     "name": "stdout",
     "output_type": "stream",
     "text": [
      "4\n"
     ]
    }
   ],
   "source": [
    "list_even = []\n",
    "for element in first_list:\n",
    "    if element % 2 == 0 :\n",
    "        list_even.append(element) \n",
    "    else:\n",
    "        continue\n",
    "\n",
    "print(len(list_even))\n",
    "\n"
   ]
  },
  {
   "cell_type": "markdown",
   "metadata": {},
   "source": [
    "### Rewrite the following expression with a multi-line `for` loop."
   ]
  },
  {
   "cell_type": "code",
   "execution_count": 27,
   "metadata": {},
   "outputs": [],
   "source": [
    "even_numbers = [element for element in first_list if element % 2 == 0]"
   ]
  },
  {
   "cell_type": "code",
   "execution_count": 70,
   "metadata": {},
   "outputs": [],
   "source": [
    "even_numbers = []\n",
    "for element in first_list:\n",
    "    if element % 2 == 0: \n",
    "        even_numbers.append(element)\n",
    "        "
   ]
  },
  {
   "cell_type": "markdown",
   "metadata": {},
   "source": [
    "### Create a function that takes a string as input and returns the first single letter of the string"
   ]
  },
  {
   "cell_type": "code",
   "execution_count": null,
   "metadata": {},
   "outputs": [
    {
     "data": {
      "text/plain": [
       "'c'"
      ]
     },
     "execution_count": 71,
     "metadata": {},
     "output_type": "execute_result"
    }
   ],
   "source": [
    "def first_letter(string):\n",
    "    return string[0]"
   ]
  },
  {
   "cell_type": "markdown",
   "metadata": {},
   "source": [
    "## c) Dictionaries"
   ]
  },
  {
   "cell_type": "markdown",
   "metadata": {},
   "source": [
    "### Create a `car` dictionary with the following keys and values:\n",
    "| key  | value |\n",
    "|---|---|\n",
    "| brand  | Ford  |\n",
    "| model  | Mustang |\n",
    "| year  | 1964 |"
   ]
  },
  {
   "cell_type": "code",
   "execution_count": null,
   "metadata": {},
   "outputs": [],
   "source": []
  },
  {
   "cell_type": "markdown",
   "metadata": {},
   "source": [
    "### Access the `year` value."
   ]
  },
  {
   "cell_type": "code",
   "execution_count": null,
   "metadata": {},
   "outputs": [],
   "source": []
  },
  {
   "cell_type": "markdown",
   "metadata": {},
   "source": [
    "###  Use a loop to display all the dictionary keys."
   ]
  },
  {
   "cell_type": "code",
   "execution_count": null,
   "metadata": {},
   "outputs": [],
   "source": []
  },
  {
   "cell_type": "markdown",
   "metadata": {},
   "source": [
    "###  Use a loop to display all the dictionary values."
   ]
  },
  {
   "cell_type": "code",
   "execution_count": null,
   "metadata": {},
   "outputs": [],
   "source": []
  },
  {
   "cell_type": "markdown",
   "metadata": {},
   "source": [
    "### Use a loop to display all the items in the dictionary. Display also the index of each loop iteration (`enumerate` function)."
   ]
  },
  {
   "cell_type": "code",
   "execution_count": null,
   "metadata": {},
   "outputs": [],
   "source": []
  },
  {
   "cell_type": "markdown",
   "metadata": {},
   "source": [
    "### With the help of a dictionary comprehension, create a dictionary with the following keys and values :\n",
    "| key  | value |\n",
    "|---|---|\n",
    "| cle_1  | dictionary 'car' |\n",
    "| cle_2  | dictionary 'car' |\n",
    "| cle_3  | dictionary 'car'|\n",
    "\n",
    "#### Example of a dictionary comprehension (similar to list comprehension):\n",
    "```\n",
    "my_dict = {key:value for key, value in zip(list_1, list_2)}\n",
    "```"
   ]
  },
  {
   "cell_type": "code",
   "execution_count": null,
   "metadata": {},
   "outputs": [],
   "source": []
  },
  {
   "cell_type": "markdown",
   "metadata": {},
   "source": [
    "## d) Functions"
   ]
  },
  {
   "cell_type": "markdown",
   "metadata": {},
   "source": [
    "### Create a Fibonacci function called `fibonacci`  (Fibonacci sequence: 0 1 1 2 3 5 8 13 ...)\n",
    "\n",
    "It should return the list of all Fibonacci numbers leading up to the Fibonacci number that is bigger (or equal) than the number passed in as argument.\n",
    "Ex : `fibonacci(10) return [0,1,1,2,3,5,8,13]`\n",
    "Ex : `fibonacci(5) return [0,1,1,2,3,5]`"
   ]
  },
  {
   "cell_type": "code",
   "execution_count": null,
   "metadata": {},
   "outputs": [],
   "source": []
  },
  {
   "cell_type": "markdown",
   "metadata": {},
   "source": [
    "### Execute your function. `fibonacci(100)` must be executed in less than 1 second."
   ]
  },
  {
   "cell_type": "code",
   "execution_count": null,
   "metadata": {},
   "outputs": [],
   "source": []
  },
  {
   "cell_type": "markdown",
   "metadata": {},
   "source": [
    "### Create the same function using a generator\n",
    "Ex : `generate_fibonacci(10) `"
   ]
  },
  {
   "cell_type": "code",
   "execution_count": null,
   "metadata": {},
   "outputs": [],
   "source": []
  }
 ],
 "metadata": {
  "kernelspec": {
   "display_name": "Python 3",
   "language": "python",
   "name": "python3"
  },
  "language_info": {
   "codemirror_mode": {
    "name": "ipython",
    "version": 3
   },
   "file_extension": ".py",
   "mimetype": "text/x-python",
   "name": "python",
   "nbconvert_exporter": "python",
   "pygments_lexer": "ipython3",
   "version": "3.13.2"
  }
 },
 "nbformat": 4,
 "nbformat_minor": 4
}
