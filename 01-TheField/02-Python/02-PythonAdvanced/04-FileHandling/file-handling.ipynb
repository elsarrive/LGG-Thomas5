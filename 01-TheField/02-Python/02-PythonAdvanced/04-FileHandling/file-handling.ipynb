{
 "cells": [
  {
   "cell_type": "markdown",
   "metadata": {},
   "source": [
    "# Reading and writing files"
   ]
  },
  {
   "cell_type": "markdown",
   "metadata": {},
   "source": [
    "We have made good progress and now we can get down to the more serious task of manipulating files. This is one of the very important points concerning this training. \n",
    "\n",
    "\n",
    "N.B: Most of the files in `./data/` are files that we will use to understand how file opening works. They don't have a special purpose other than that. "
   ]
  },
  {
   "cell_type": "markdown",
   "metadata": {},
   "source": [
    "To open/edit a file in python we use the `open()` function.\n",
    "\n",
    "This function takes as first parameter the path of the file (*relative* or *absolute*) and as second parameter the type of opening, _i.e._ reading or writing mode.\n",
    "\n",
    "A **relative path** in computing is a path that takes into account the current location. The path is **relative** to where it is called from\n",
    "\n",
    "- **Example:** _./data/data.txt_\n",
    "\n",
    "An **absolute path** is a complete path that can be read regardless of the reading location\n",
    "\n",
    "- **Example:** _/Users/becodian/Desktop/BeCode/ai-track/content/2.python/2.python_advanced/04.File-handling/data/data.txt_\n",
    "\n",
    "The best practice is to always use **relative** paths in your Python code. In this way your code can be shared **as it is** with your colleagues. An absolute path will generate an error since it exists only on your own computer.\n",
    "\n"
   ]
  },
  {
   "cell_type": "code",
   "execution_count": 3,
   "metadata": {},
   "outputs": [],
   "source": [
    "filename = \"./data/data.txt\"\n",
    "my_file = open(filename, \"r\")  # r for \"read\""
   ]
  },
  {
   "cell_type": "markdown",
   "metadata": {},
   "source": [
    "- `\"r\"`, for a read opening (READ).\n",
    "\n",
    "- `\"w\"`, for a write opening (WRITE), each time the file is opened, the content of the file is overwritten. If the file does not exist, Python creates it. \n",
    "\n",
    "    *The Python docs say that `w+` will \"overwrite the existing file if the file exists\". So as soon as you open a file with `w+`, it is now an empty file: it contains 0 bytes. If it used to contain data, that data has been truncated — cut off and thrown away — and now the file size is 0 bytes, so you can't read any of the data that existed before you opened the file with `w+`. If you actually wanted to read the previous data and add to it, you should use `r+` instead of `w+`* [[Source]](https://stackoverflow.com/questions/16208206/confused-by-python-file-mode-w#comment83227862_16208298)\n",
    "    \n",
    "    \n",
    "\n",
    "- `\"a\"`, for an opening in add mode at the end of the file (APPEND). If the file does not exist, Python creates it.\n",
    "\n",
    "- `\"x\"`, creates a new file and opens it for writing\n",
    "\n",
    "You can also append the character `+` and `b` to nearly all of the above commands. [[More info here]](https://stackabuse.com/file-handling-in-python/)"
   ]
  },
  {
   "cell_type": "markdown",
   "metadata": {},
   "source": [
    "Like any open element, it must be closed again once the instructions have been completed. To do this, we use the `close()` method."
   ]
  },
  {
   "cell_type": "code",
   "execution_count": 4,
   "metadata": {},
   "outputs": [],
   "source": [
    "my_file.close()"
   ]
  },
  {
   "cell_type": "code",
   "execution_count": 5,
   "metadata": {},
   "outputs": [
    {
     "name": "stdout",
     "output_type": "stream",
     "text": [
      "Hi everyone, I'm adding sentences to the file !\n"
     ]
    }
   ],
   "source": [
    "# Let's find out what's going on there\n",
    "my_file = open(filename, \"r\")\n",
    "print(my_file.read())\n",
    "my_file.close()"
   ]
  },
  {
   "cell_type": "markdown",
   "metadata": {},
   "source": [
    "Another possibility of opening without closing by using a **with** statement. That's a **best practice** and you should use that as much as you can."
   ]
  },
  {
   "cell_type": "code",
   "execution_count": 6,
   "metadata": {},
   "outputs": [
    {
     "name": "stdout",
     "output_type": "stream",
     "text": [
      "Hi everyone, I'm adding sentences to the file !\n"
     ]
    }
   ],
   "source": [
    "with open(filename, \"r\") as my_file:\n",
    "    print(my_file.read())"
   ]
  },
  {
   "cell_type": "markdown",
   "metadata": {},
   "source": [
    "Can you create a list based on the contents of this file? Each word should be an element of the list\n",
    "*(Use `.split()` for example...)*"
   ]
  },
  {
   "cell_type": "code",
   "execution_count": 15,
   "metadata": {},
   "outputs": [
    {
     "name": "stdout",
     "output_type": "stream",
     "text": [
      "['Hi', 'everyone,', \"I'm\", 'adding', 'sentences', 'to', 'the', 'file', '!']\n"
     ]
    }
   ],
   "source": [
    "# YOUR CODE HERE\n",
    "with open(filename, \"r\") as my_file:\n",
    "    myfile = str(my_file.read()).split(\" \")\n",
    "    print(myfile)"
   ]
  },
  {
   "cell_type": "markdown",
   "metadata": {},
   "source": [
    "To write in a file, just **open** (existing or not), write in it and close it. We open it in mode `\"w\"` so that the previous data is deleted and new data can be added."
   ]
  },
  {
   "cell_type": "code",
   "execution_count": 25,
   "metadata": {},
   "outputs": [],
   "source": [
    "\n",
    "new_filename = \"./data/data_new.txt\"\n",
    "file = open(new_filename, \"w\")\n",
    "file.write(\"Hi everyone, I'm adding sentences to the file !\")\n",
    "file.close()"
   ]
  },
  {
   "cell_type": "markdown",
   "metadata": {},
   "source": [
    "Can you take the content of the `data.txt` file from the `./data/` directory, capitalize all the words and write them in the file that you created just before, after the sentences you added?\n"
   ]
  },
  {
   "cell_type": "code",
   "execution_count": 45,
   "metadata": {},
   "outputs": [
    {
     "name": "stdout",
     "output_type": "stream",
     "text": [
      "Hi everyone, I'm adding sentences to the file !aaaaaaaaaaaaaaaaaaaaaaaaaaaaaaaaaaaaaaaaaaaaaaaaaaaaaaaaaaaaaaaaaaaaaaaaaaaaaaaaaaaaaaaaHI EVERYONE, I'M ADDING SENTENCES TO THE FILE !HI EVERYONE, I'M ADDING SENTENCES TO THE FILE !HI EVERYONE, I'M ADDING SENTENCES TO THE FILE !HI EVERYONE, I'M ADDING SENTENCES TO THE FILE !HI EVERYONE, I'M ADDING SENTENCES TO THE FILE !HI EVERYONE, I'M ADDING SENTENCES TO THE FILE !\n"
     ]
    }
   ],
   "source": [
    "# It's up to you to write the end\n",
    "array = []\n",
    "with open(filename, \"r\") as input_file:\n",
    "    with open(new_filename, \"a\") as output_file:\n",
    "        # Write your code here\n",
    "        output_file.write(str(input_file.read()).upper())\n",
    "\n",
    "with open(new_filename, \"r\") as output_file:\n",
    "    print(output_file.read())\n"
   ]
  },
  {
   "cell_type": "markdown",
   "metadata": {},
   "source": [
    "## Management of directory paths..."
   ]
  },
  {
   "cell_type": "markdown",
   "metadata": {},
   "source": [
    "The `os` module is a library that provides a portable way of using operating system dependent functionality.\n",
    "In this chapter, we are interested in using its powerful file path handling capabilities using `os.path`."
   ]
  },
  {
   "cell_type": "code",
   "execution_count": 46,
   "metadata": {},
   "outputs": [],
   "source": [
    "import os"
   ]
  },
  {
   "cell_type": "markdown",
   "metadata": {},
   "source": [
    "Each file or folder is associated with a kind of address that makes it easy to find it without errors. It is not possible to have a file with an identical name as another inside the same folder (except if the file extension is different).\n",
    "\n",
    "As said before, there are two kinds of paths: the absolute path from the root of your file system and the relative path from the folder being read."
   ]
  },
  {
   "cell_type": "markdown",
   "metadata": {},
   "source": [
    "By using `help` function, we can see the available methods."
   ]
  },
  {
   "cell_type": "code",
   "execution_count": 47,
   "metadata": {},
   "outputs": [
    {
     "name": "stdout",
     "output_type": "stream",
     "text": [
      "Help on module ntpath:\n",
      "\n",
      "NAME\n",
      "    ntpath - Common pathname manipulations, WindowsNT/95 version.\n",
      "\n",
      "MODULE REFERENCE\n",
      "    https://docs.python.org/3.13/library/ntpath.html\n",
      "\n",
      "    The following documentation is automatically generated from the Python\n",
      "    source files.  It may be incomplete, incorrect or include features that\n",
      "    are considered implementation detail and may vary between Python\n",
      "    implementations.  When in doubt, consult the module reference at the\n",
      "    location listed above.\n",
      "\n",
      "DESCRIPTION\n",
      "    Instead of importing this module directly, import os and refer to this\n",
      "    module as os.path.\n",
      "\n",
      "FUNCTIONS\n",
      "    abspath(path)\n",
      "        Return the absolute version of a path.\n",
      "\n",
      "    basename(p)\n",
      "        Returns the final component of a pathname\n",
      "\n",
      "    commonpath(paths)\n",
      "        Given an iterable of path names, returns the longest common sub-path.\n",
      "\n",
      "    commonprefix(m)\n",
      "        Given a list of pathnames, returns the longest common leading component\n",
      "\n",
      "    dirname(p)\n",
      "        Returns the directory component of a pathname\n",
      "\n",
      "    exists = _path_exists(path)\n",
      "        Test whether a path exists.  Returns False for broken symbolic links.\n",
      "\n",
      "    expanduser(path)\n",
      "        Expand ~ and ~user constructs.\n",
      "\n",
      "        If user or $HOME is unknown, do nothing.\n",
      "\n",
      "    expandvars(path)\n",
      "        Expand shell variables of the forms $var, ${var} and %var%.\n",
      "\n",
      "        Unknown variables are left unchanged.\n",
      "\n",
      "    getatime(filename)\n",
      "        Return the last access time of a file, reported by os.stat().\n",
      "\n",
      "    getctime(filename)\n",
      "        Return the metadata change time of a file, reported by os.stat().\n",
      "\n",
      "    getmtime(filename)\n",
      "        Return the last modification time of a file, reported by os.stat().\n",
      "\n",
      "    getsize(filename)\n",
      "        Return the size of a file, reported by os.stat().\n",
      "\n",
      "    isabs(s)\n",
      "        Test whether a path is absolute\n",
      "\n",
      "    isdevdrive(path)\n",
      "        Determines whether the specified path is on a Windows Dev Drive.\n",
      "\n",
      "    isdir = _path_isdir(s)\n",
      "        Return true if the pathname refers to an existing directory.\n",
      "\n",
      "    isfile = _path_isfile(path)\n",
      "        Test whether a path is a regular file\n",
      "\n",
      "    isjunction = _path_isjunction(path)\n",
      "        Test whether a path is a junction\n",
      "\n",
      "    islink = _path_islink(path)\n",
      "        Test whether a path is a symbolic link\n",
      "\n",
      "    ismount(path)\n",
      "        Test whether a path is a mount point (a drive root, the root of a\n",
      "        share, or a mounted volume)\n",
      "\n",
      "    isreserved(path)\n",
      "        Return true if the pathname is reserved by the system.\n",
      "\n",
      "    join(path, *paths)\n",
      "\n",
      "    lexists = _path_lexists(path)\n",
      "        Test whether a path exists.  Returns True for broken symbolic links.\n",
      "\n",
      "    normcase(s)\n",
      "        Normalize case of pathname.\n",
      "\n",
      "        Makes all characters lowercase and all slashes into backslashes.\n",
      "\n",
      "    normpath = _path_normpath(path)\n",
      "        Normalize path, eliminating double slashes, etc.\n",
      "\n",
      "    realpath(path, *, strict=False)\n",
      "\n",
      "    relpath(path, start=None)\n",
      "        Return a relative version of a path\n",
      "\n",
      "    samefile(f1, f2)\n",
      "        Test whether two pathnames reference the same actual file or directory\n",
      "\n",
      "        This is determined by the device number and i-node number and\n",
      "        raises an exception if an os.stat() call on either pathname fails.\n",
      "\n",
      "    sameopenfile(fp1, fp2)\n",
      "        Test whether two open file objects reference the same file\n",
      "\n",
      "    samestat(s1, s2)\n",
      "        Test whether two stat buffers reference the same file\n",
      "\n",
      "    split(p)\n",
      "        Split a pathname.\n",
      "\n",
      "        Return tuple (head, tail) where tail is everything after the final slash.\n",
      "        Either part may be empty.\n",
      "\n",
      "    splitdrive(p)\n",
      "        Split a pathname into drive/UNC sharepoint and relative path specifiers.\n",
      "        Returns a 2-tuple (drive_or_unc, path); either part may be empty.\n",
      "\n",
      "        If you assign\n",
      "            result = splitdrive(p)\n",
      "        It is always true that:\n",
      "            result[0] + result[1] == p\n",
      "\n",
      "        If the path contained a drive letter, drive_or_unc will contain everything\n",
      "        up to and including the colon.  e.g. splitdrive(\"c:/dir\") returns (\"c:\", \"/dir\")\n",
      "\n",
      "        If the path contained a UNC path, the drive_or_unc will contain the host name\n",
      "        and share up to but not including the fourth directory separator character.\n",
      "        e.g. splitdrive(\"//host/computer/dir\") returns (\"//host/computer\", \"/dir\")\n",
      "\n",
      "        Paths cannot contain both a drive letter and a UNC path.\n",
      "\n",
      "    splitext(p)\n",
      "        Split the extension from a pathname.\n",
      "\n",
      "        Extension is everything from the last dot to the end, ignoring\n",
      "        leading dots.  Returns \"(root, ext)\"; ext may be empty.\n",
      "\n",
      "    splitroot = _path_splitroot_ex(p)\n",
      "        Split a pathname into drive, root and tail.\n",
      "\n",
      "        The tail contains anything after the root.\n",
      "\n",
      "DATA\n",
      "    __all__ = ['normcase', 'isabs', 'join', 'splitdrive', 'splitroot', 'sp...\n",
      "    altsep = '/'\n",
      "    curdir = '.'\n",
      "    defpath = r'.;C:\\bin'\n",
      "    devnull = 'nul'\n",
      "    extsep = '.'\n",
      "    pardir = '..'\n",
      "    pathsep = ';'\n",
      "    sep = r'\\'\n",
      "    supports_unicode_filenames = True\n",
      "\n",
      "FILE\n",
      "    c:\\program files\\windowsapps\\pythonsoftwarefoundation.python.3.13_3.13.752.0_x64__qbz5n2kfra8p0\\lib\\ntpath.py\n",
      "\n",
      "\n"
     ]
    }
   ],
   "source": [
    "help(os.path)"
   ]
  },
  {
   "cell_type": "markdown",
   "metadata": {},
   "source": [
    "To know your current absolute path, use `abspath('')`"
   ]
  },
  {
   "cell_type": "code",
   "execution_count": 48,
   "metadata": {},
   "outputs": [
    {
     "name": "stdout",
     "output_type": "stream",
     "text": [
      "C:\\Users\\becode\\Desktop\\AI-bootcamp\\LGG-Thomas5\\01-TheField\\02-Python\\02-PythonAdvanced\\04-FileHandling\n",
      "<class 'str'>\n"
     ]
    }
   ],
   "source": [
    "# In Python a path is a string, so there are methods to manipulate it.\n",
    "path = os.path.abspath(\"\")\n",
    "print(path)\n",
    "print(type(path))"
   ]
  },
  {
   "cell_type": "markdown",
   "metadata": {},
   "source": [
    " To get the **directory** containing a path, usr `dirname(path)`."
   ]
  },
  {
   "cell_type": "code",
   "execution_count": 49,
   "metadata": {},
   "outputs": [
    {
     "data": {
      "text/plain": [
       "'C:\\\\Users\\\\becode\\\\Desktop\\\\AI-bootcamp\\\\LGG-Thomas5\\\\01-TheField\\\\02-Python\\\\02-PythonAdvanced'"
      ]
     },
     "execution_count": 49,
     "metadata": {},
     "output_type": "execute_result"
    }
   ],
   "source": [
    "os.path.dirname(path)"
   ]
  },
  {
   "cell_type": "markdown",
   "metadata": {},
   "source": [
    "To only get the file name of a path (or directory name if this is a directory), use `basename(path)`."
   ]
  },
  {
   "cell_type": "code",
   "execution_count": 50,
   "metadata": {},
   "outputs": [
    {
     "data": {
      "text/plain": [
       "'04-FileHandling'"
      ]
     },
     "execution_count": 50,
     "metadata": {},
     "output_type": "execute_result"
    }
   ],
   "source": [
    "os.path.basename(path)"
   ]
  },
  {
   "cell_type": "markdown",
   "metadata": {},
   "source": [
    "To add a directory, let's say `\"text\"` to the path, we use `join()`. \n",
    "\n",
    "The cool thing is that it is compatible across operating systems. Meaning that on Windows it will automatically add `\\` between the arguments of `os.path.join`, and on Linux it will add `/`. The same code thus works on every operating system!"
   ]
  },
  {
   "cell_type": "code",
   "execution_count": 51,
   "metadata": {},
   "outputs": [
    {
     "name": "stdout",
     "output_type": "stream",
     "text": [
      "C:\\Users\\becode\\Desktop\\AI-bootcamp\\LGG-Thomas5\\01-TheField\\02-Python\\02-PythonAdvanced\\04-FileHandling\\text\n"
     ]
    }
   ],
   "source": [
    "rep_text = os.path.join(path, \"text\")\n",
    "print(rep_text)"
   ]
  },
  {
   "cell_type": "markdown",
   "metadata": {},
   "source": [
    "To retrieve all the elements of a folder as a list, you can use the `listdir()` method."
   ]
  },
  {
   "cell_type": "code",
   "execution_count": 52,
   "metadata": {},
   "outputs": [
    {
     "data": {
      "text/plain": [
       "['01-OOP',\n",
       " '02-ExceptionHandling',\n",
       " '03-Regex',\n",
       " '04-FileHandling',\n",
       " '05-Scraping',\n",
       " '06-Concurrency',\n",
       " '07-Decorators',\n",
       " '08-Typing',\n",
       " '09-DataStructures',\n",
       " '10-UnitTesting',\n",
       " 'hangman-elsarrive',\n",
       " 'README.md']"
      ]
     },
     "execution_count": 52,
     "metadata": {},
     "output_type": "execute_result"
    }
   ],
   "source": [
    "# Items are returned as a list and includes folders and hidden files.\n",
    "os.listdir(\"../\")"
   ]
  },
  {
   "cell_type": "markdown",
   "metadata": {},
   "source": [
    "### How to display all the elements of a folder as well as its child folders? \n",
    "\n",
    "With the `walk()` function:\n",
    "\n",
    "```\n",
    "walk(top, topdown=True, onerror=None, followlinks=False)\n",
    "```\n"
   ]
  },
  {
   "cell_type": "code",
   "execution_count": 80,
   "metadata": {},
   "outputs": [
    {
     "ename": "_IncompleteInputError",
     "evalue": "incomplete input (1643129092.py, line 6)",
     "output_type": "error",
     "traceback": [
      "  \u001b[36mCell\u001b[39m\u001b[36m \u001b[39m\u001b[32mIn[80]\u001b[39m\u001b[32m, line 6\u001b[39m\n\u001b[31m    \u001b[39m\u001b[31m# print(os.path.join(path, filename))\u001b[39m\n                                         ^\n\u001b[31m_IncompleteInputError\u001b[39m\u001b[31m:\u001b[39m incomplete input\n"
     ]
    }
   ],
   "source": [
    "folder_path = os.path.abspath(\"./\")\n",
    "print(folder_path)\n",
    "\n",
    "for path, dirs, files in os.walk(folder_path):\n",
    "    for filename in files:\n",
    "       print(os.path.join(path, filename))"
   ]
  },
  {
   "cell_type": "markdown",
   "metadata": {},
   "source": [
    "Create a list of all the **`.txt` files** from the `data/` directory"
   ]
  },
  {
   "cell_type": "code",
   "execution_count": 82,
   "metadata": {},
   "outputs": [
    {
     "name": "stdout",
     "output_type": "stream",
     "text": [
      "C:\\Users\\becode\\Desktop\\AI-bootcamp\\LGG-Thomas5\\01-TheField\\02-Python\\02-PythonAdvanced\\04-FileHandling\\data\n"
     ]
    }
   ],
   "source": [
    "txt_files = []\n",
    "folder_path = os.path.abspath(\"./data\")\n",
    "print(folder_path)\n",
    "\n",
    "for path, dirs, files in os.walk(folder_path):\n",
    "    for filename in files:\n",
    "        txt_files.append(os.path.join(os.path.basename(path), filename))\n"
   ]
  },
  {
   "cell_type": "markdown",
   "metadata": {},
   "source": [
    "Open all the files of the list, and add their content into a new file `final.txt` that you will create in `data/`."
   ]
  },
  {
   "cell_type": "code",
   "execution_count": 83,
   "metadata": {},
   "outputs": [
    {
     "name": "stdout",
     "output_type": "stream",
     "text": [
      "Folder Path: C:\\Users\\becode\\Desktop\\AI-bootcamp\\LGG-Thomas5\\01-TheField\\02-Python\\02-PythonAdvanced\\04-FileHandling\\data\n",
      "All files have been merged into C:\\Users\\becode\\Desktop\\AI-bootcamp\\LGG-Thomas5\\01-TheField\\02-Python\\02-PythonAdvanced\\04-FileHandling\\data\\final.txt\n",
      "\n",
      "\n",
      "=== Content from: C:\\Users\\becode\\Desktop\\AI-bootcamp\\LGG-Thomas5\\01-TheField\\02-Python\\02-PythonAdvanced\\04-FileHandling\\data\\comptagevelo2017.csv ===\n",
      "\n",
      "Date,,Berri1,Boyer,Boyer 2,Brébeuf,Christophe-Colomb,CSC (Côte Sainte-Catherine),Eco-Totem - Métro Laurier,Maisonneuve_2,Maisonneuve_3,Notre-Dame,Parc,PierDup,Pont Jacques-Cartier,Rachel / Hôtel de Ville,Rachel / Papineau,René-Lévesque,Saint-Antoine,Saint-Laurent/Bellechasse,Saint-Urbain\n",
      "\n",
      "01/01/2017,00:00,38,35,,20,,60,58,38,12,10,13,9,0,42,77,15,8,72,5\n",
      "\n",
      "02/01/2017,00:00,109,40,0,43,,61,66,152,57,9,52,14,0,136,231,22,10,182,4\n",
      "\n",
      "03/01/2017,00:00,141,24,24,9,,14,131,216,74,32,71,17,0,99,242,53,28,532,5\n",
      "\n",
      "04/01/2017,00:00,233,64,95,7,,12,160,284,80,45,64,5,15,128,296,131,33,821,0\n",
      "\n",
      "05/01/2017,00:00,265,93,94,11,,14,160,306,97,38,97,6,0,189,338,89,45,786,9\n",
      "\n",
      "06/01/2017,00:00,306,90,120,7,,120,197,325,87,51,115,7,0,189,404,88,39,1367,10\n",
      "\n",
      "07/01/2017,00:00,96,62,96,15,,77,132,149,35,13,37,12,0,118,187,16,14,163,10\n",
      "\n",
      "08/01/2017,00:00,113,60,61,7,,81,104,117,59,16,24,5,0,99,180,28,4,198,16\n",
      "\n",
      "09/01/2017,00:00,362,93,162,5,,299,228,386,113,74,169,5,0,162,417,126,41,975,26\n",
      "\n",
      "10/01/2017,00:00,451,144,198,5,,245,310,495,147,89,205,3,0,247,520,160,58,577,33\n",
      "\n",
      "11/01/2017,00:00,458,157,159,7,,212,323,556,147,65,227,6,0,299,549,161,69,630,160\n",
      "\n",
      "12/01/2017,00:00,440,123,162,6,,205,364,504,140,59,278,4,0,265,564,150,59,594,149\n",
      "\n",
      "13/01/2017,00:00,398,92,181,9,,201,367,545,141,85,233,7,0,265,510,161,44,600,67\n",
      "\n",
      "14/01/2017,00:00,125,45,79,6,,180,166,209,51,23,65,9,0,157,220,41,17,280,19\n",
      "\n",
      "15/01/2017,00:00,120,46,87,5,0,116,191,171,65,22,64,12,0,171,268,43,10,334,49\n",
      "\n",
      "16/01/2017,00:00,507,144,256,7,72,366,423,701,208,103,349,17,0,315,670,213,59,815,203\n",
      "\n",
      "17/01/2017,00:00,576,157,270,7,73,378,516,817,216,124,402,15,0,379,724,244,70,994,236\n",
      "\n"
     ]
    }
   ],
   "source": [
    "import os\n",
    "\n",
    "folder_path = os.path.abspath(\"./data\")\n",
    "print(f\"Folder Path: {folder_path}\")\n",
    "\n",
    "all_files = []\n",
    "for path, dirs, files in os.walk(folder_path):\n",
    "    for filename in files:\n",
    "        all_files.append(os.path.join(path, filename)) \n",
    "\n",
    "final_file_path = os.path.join(folder_path, \"final.txt\")\n",
    "with open(final_file_path, \"w\", encoding=\"utf-8\", errors=\"ignore\") as final_file:\n",
    "    for file in all_files:\n",
    "        try:\n",
    "            with open(file, \"r\", encoding=\"utf-8\", errors=\"ignore\") as f:\n",
    "                final_file.write(f\"\\n=== Content from: {file} ===\\n\")\n",
    "                final_file.write(f.read() + \"\\n\")  # Append content\n",
    "        except Exception as e:\n",
    "            print(f\"Could not read {file}: {e}\")\n",
    "\n",
    "print(f\"All files have been merged into {final_file_path}\")\n",
    "\n",
    "with open(final_file_path, \"r\", encoding=\"utf-8\", errors=\"ignore\") as final_file:\n",
    "    content = final_file.readlines()\n",
    "\n",
    "# Afficher les 20 premières lignes pour un aperçu rapide\n",
    "print(\"\\n\".join(content[:20]))"
   ]
  },
  {
   "cell_type": "code",
   "execution_count": null,
   "metadata": {},
   "outputs": [],
   "source": []
  }
 ],
 "metadata": {
  "kernelspec": {
   "display_name": "Python 3 (ipykernel)",
   "language": "python",
   "name": "python3"
  },
  "language_info": {
   "codemirror_mode": {
    "name": "ipython",
    "version": 3
   },
   "file_extension": ".py",
   "mimetype": "text/x-python",
   "name": "python",
   "nbconvert_exporter": "python",
   "pygments_lexer": "ipython3",
   "version": "3.13.2"
  },
  "vscode": {
   "interpreter": {
    "hash": "aee8b7b246df8f9039afb4144a1f6fd8d2ca17a180786b69acc140d282b71a49"
   }
  }
 },
 "nbformat": 4,
 "nbformat_minor": 4
}
