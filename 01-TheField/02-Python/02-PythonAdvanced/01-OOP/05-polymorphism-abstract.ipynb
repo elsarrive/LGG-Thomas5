{
 "cells": [
  {
   "cell_type": "markdown",
   "metadata": {},
   "source": [
    "## Polymorphism\n",
    "\n",
    "Polymorphism in Python allows objects of different classes to be treated as objects of a common base class.\n",
    "It enables the use of a single interface for different data types or classes. There are several types of polymorphism in Python:\n",
    "\n",
    "- Function Polymorphism: Python's built-in functions like len() can work with different data types\n",
    "- Class Polymorphism: Different classes can have methods with the same name\n",
    "- Inheritance-based Polymorphism: Child classes can override methods from parent classes\n",
    "\n",
    "Example of class polymorphism:"
   ]
  },
  {
   "cell_type": "code",
   "execution_count": 1,
   "metadata": {},
   "outputs": [
    {
     "name": "stdout",
     "output_type": "stream",
     "text": [
      "Drive!\n",
      "Sail!\n",
      "Fly!\n"
     ]
    }
   ],
   "source": [
    "class Car:\n",
    "    def move(self):\n",
    "        print(\"Drive!\")\n",
    "\n",
    "class Boat:\n",
    "    def move(self):\n",
    "        print(\"Sail!\")\n",
    "\n",
    "class Plane:\n",
    "    def move(self):\n",
    "        print(\"Fly!\")\n",
    "\n",
    "for vehicle in (Car(), Boat(), Plane()):\n",
    "    vehicle.move()\n"
   ]
  },
  {
   "cell_type": "markdown",
   "metadata": {},
   "source": [
    "\n",
    "#### Basic Method Overriding\n",
    "\n",
    "Create a base class Animal with a method make_sound(). Then create subclasses Dog, Cat, and Cow that override this method. Demonstrate polymorphism by calling make_sound() on different animal objects."
   ]
  },
  {
   "cell_type": "code",
   "execution_count": 4,
   "metadata": {},
   "outputs": [
    {
     "name": "stdout",
     "output_type": "stream",
     "text": [
      "Meuh!\n",
      "Miaow!\n",
      "Woof!\n"
     ]
    }
   ],
   "source": [
    "class Animal:\n",
    "    def make_sound(self):\n",
    "        pass\n",
    "\n",
    "# Implement Dog, Cat, and Cow classes here\n",
    "class Dog(Animal):\n",
    "    def make_sound(self):\n",
    "        print(\"Woof!\")\n",
    "class Cat(Animal):\n",
    "    def make_sound(self):\n",
    "        print(\"Miaow!\")\n",
    "class Cow(Animal):\n",
    "    def make_sound(self):\n",
    "        print(\"Meuh!\")\n",
    "# Create a list of animals and make them all sound off\n",
    "for animals in (Cow(), Cat(), Dog()):\n",
    "    animals.make_sound()"
   ]
  },
  {
   "cell_type": "markdown",
   "metadata": {},
   "source": [
    "\n",
    "#### Employee Salary Calculator\n",
    "\n",
    "Create a base class Employee with a method calculate_salary(). Implement subclasses FullTimeEmployee, PartTimeEmployee, and Contractor, each with its own salary calculation logic. Use polymorphism to calculate salaries for different types of employees."
   ]
  },
  {
   "cell_type": "code",
   "execution_count": 21,
   "metadata": {},
   "outputs": [
    {
     "name": "stdout",
     "output_type": "stream",
     "text": [
      "3000\n",
      "1500.0\n",
      "5250.0\n"
     ]
    }
   ],
   "source": [
    "class Employee:\n",
    "    def __init__(self, name):\n",
    "        self.name = name\n",
    "\n",
    "    def calculate_salary(self):\n",
    "        pass\n",
    "\n",
    "# Implement FullTimeEmployee, PartTimeEmployee, and Contractor classes here\n",
    "class FullTimeEmployee(Employee):\n",
    "    def __init__(self, name):\n",
    "        super().__init__(name)\n",
    "\n",
    "    def calculate_salary(self):\n",
    "        return 3000\n",
    "\n",
    "class PartTimeEmployee(Employee):\n",
    "    def __init__(self, name):\n",
    "        super().__init__(name)\n",
    "\n",
    "    def calculate_salary(self):\n",
    "        return 3000/2\n",
    "\n",
    "class Contractor(Employee):\n",
    "    def __init__(self, name):\n",
    "        super().__init__(name)\n",
    "\n",
    "    def calculate_salary(self):\n",
    "        return 3000*1.75\n",
    "        \n",
    "# Create a list of employees and calculate their salaries\n",
    "employees = [FullTimeEmployee(\"Madeleine\"), PartTimeEmployee(\"Patrick\"), Contractor(\"Gérard\")]\n",
    "for employee in employees: print(employee.calculate_salary())"
   ]
  },
  {
   "cell_type": "markdown",
   "metadata": {},
   "source": [
    "#### Abstract methods\n",
    "\n",
    "Abstract methods in Python are methods declared in an abstract class but lack implementation. They serve as a blueprint for subclasses, requiring them to provide specific implementations. \n",
    "\n",
    "Abstract methods are defined using the @abstractmethod decorator from the abc module. They are typically part of an abstract base class (ABC)\n",
    "\n",
    "##### Usage and Utility\n",
    "\n",
    "- Enforcing Interface: Abstract methods ensure that subclasses implement required methods, creating a consistent interface\n",
    "- Code Reusability: They promote code reuse by defining a common structure for related classes\n",
    "- Polymorphism: Abstract methods enable polymorphic behavior, allowing different subclasses to provide their own implementations\n",
    "- Encapsulation: They help encapsulate implementation details while exposing a clear interface\n",
    "\n",
    "##### When to Use Abstract Methods\n",
    "Use abstract methods in the following scenarios:\n",
    "\n",
    "- API Design: When designing APIs that require specific interfaces to be implemented\n",
    "- Plugin Architecture: For creating extensible systems where plugins need to adhere to a defined interface\n",
    "- Domain Modeling: When modeling complex domains and ensuring certain methods are implemented across all classes in the domain\n",
    "- Framework Development: To provide a structure for developers to extend and customize functionality\n",
    "- Standardization: When you want to enforce a standard set of methods across multiple related classes\n",
    "\n",
    "Abstract methods are powerful tools for creating flexible, maintainable, and extensible code in Python. They help define clear contracts between base classes and their subclasses, ensuring consistent behavior across class hierarchies"
   ]
  },
  {
   "cell_type": "markdown",
   "metadata": {},
   "source": [
    "\n",
    "#### Shape Area Calculator\n",
    "\n",
    "Create an abstract base class Shape with an abstract method area(). Implement concrete classes Circle, Rectangle, and Triangle that inherit from Shape. Use polymorphism to calculate and print the areas of different shapes."
   ]
  },
  {
   "cell_type": "code",
   "execution_count": 32,
   "metadata": {},
   "outputs": [
    {
     "name": "stdout",
     "output_type": "stream",
     "text": [
      "90.0\n",
      "120\n",
      "201.06192982974676\n"
     ]
    }
   ],
   "source": [
    "from abc import ABC, abstractmethod\n",
    "import math\n",
    "\n",
    "class Shape(ABC):\n",
    "    @abstractmethod\n",
    "    def area(self):\n",
    "        pass\n",
    "\n",
    "# Implement Circle, Rectangle, and Triangle classes here\n",
    "class Circle(Shape):\n",
    "    def __init__(self, radius):\n",
    "        \n",
    "        self.radius = radius\n",
    "\n",
    "    def area(self):\n",
    "        return (math.pi * self.radius**2)\n",
    "\n",
    "class Rectangle(Shape):\n",
    "    def __init__(self, length, width):\n",
    "        \n",
    "        self.length = length\n",
    "        self.width = width\n",
    "\n",
    "    def area(self):\n",
    "        return (self.length * self.width)\n",
    "\n",
    "class Triangle(Shape):\n",
    "    def __init__(self, base, height):\n",
    "        \n",
    "        self.base = base\n",
    "        self.height = height\n",
    "        \n",
    "    def area(self):\n",
    "        return (self.base * self.height/2)\n",
    "        \n",
    "# Create a list of shapes and calculate their areas\n",
    "shapes = [Triangle(10, 18), Rectangle(10, 12), Circle(8)]\n",
    "for shape in shapes: print(shape.area())"
   ]
  },
  {
   "cell_type": "markdown",
   "metadata": {},
   "source": [
    "\n",
    "#### File Processor\n",
    "\n",
    "Create an abstract base class FileProcessor with methods read_file() and process_data(). Implement concrete classes for different file types (e.g., CSVProcessor, JSONProcessor, XMLProcessor). Use polymorphism to read and process data from different file formats. "
   ]
  },
  {
   "cell_type": "code",
   "execution_count": 35,
   "metadata": {},
   "outputs": [
    {
     "data": {
      "text/plain": [
       "'processors = {\\n    \"csv\" : CSVProcessor(),\\n    \"json\" : JSONProcessor(),\\n    \"xml\" : XMLProcessor()\\n}\\n\\nfiles = {\\n    \"csv\" : \"file.csv\",\\n    \"json\" : \"test.json\",\\n    \"xml\" : \"test.xml\"\\n}\\n\\nfor file_type, processor in processors.items():\\n    filename = files[file_type]\\n    data = processor.read_file(filename)\\n    print(processor.process_data(data))'"
      ]
     },
     "execution_count": 35,
     "metadata": {},
     "output_type": "execute_result"
    }
   ],
   "source": [
    "from abc import ABC, abstractmethod\n",
    "import csv \n",
    "import json \n",
    "import xml.etree.ElementTree as ET\n",
    "\n",
    "class FileProcessor(ABC):\n",
    "    @abstractmethod\n",
    "    def read_file(self, filename):\n",
    "        pass\n",
    "\n",
    "    @abstractmethod\n",
    "    def process_data(self, data):\n",
    "        pass\n",
    "\n",
    "# Implement CSVProcessor, JSONProcessor, and XMLProcessor classes here\n",
    "class CSVProcessor(FileProcessor):\n",
    "    def read_file(self, filename):\n",
    "        with open(filename, newline = \"\", encoding=\"utf-8\") as file: \n",
    "            reader = csv.reader(file)\n",
    "        return list(reader)\n",
    "\n",
    "    def process_data(self, data):\n",
    "        return f\"Processed CSV data with {len(data)} rows\"\n",
    "\n",
    "class JSONProcessor(FileProcessor):\n",
    "    def read_file(self, filename):\n",
    "        with open(filename, encoding=\"utf-8\") as file: \n",
    "            json.load(file)\n",
    "\n",
    "    def process_data(self, data):\n",
    "        return f\"Processed JSON file with {len(data)} rows\"\n",
    "\n",
    "class XMLProcessor(FileProcessor):\n",
    "    def read_file(self, filename):\n",
    "        tree = ET.parse(filename)\n",
    "        root = tree.getroot()\n",
    "        return root\n",
    "\n",
    "    def process_data(self, data): \n",
    "        return f\"Processed XML with {len(data)} elements\"\n",
    "\n",
    "# Create a list of file processors and use them to read and process different file types\n",
    "\"\"\"processors = {\n",
    "    \"csv\" : CSVProcessor(),\n",
    "    \"json\" : JSONProcessor(),\n",
    "    \"xml\" : XMLProcessor()\n",
    "}\n",
    "\n",
    "files = {\n",
    "    \"csv\" : \"file.csv\",\n",
    "    \"json\" : \"test.json\",\n",
    "    \"xml\" : \"test.xml\"\n",
    "}\n",
    "\n",
    "for file_type, processor in processors.items():\n",
    "    filename = files[file_type]\n",
    "    data = processor.read_file(filename)\n",
    "    print(processor.process_data(data))\"\"\"\n"
   ]
  },
  {
   "cell_type": "code",
   "execution_count": null,
   "metadata": {},
   "outputs": [],
   "source": []
  }
 ],
 "metadata": {
  "kernelspec": {
   "display_name": "Python 3 (ipykernel)",
   "language": "python",
   "name": "python3"
  },
  "language_info": {
   "codemirror_mode": {
    "name": "ipython",
    "version": 3
   },
   "file_extension": ".py",
   "mimetype": "text/x-python",
   "name": "python",
   "nbconvert_exporter": "python",
   "pygments_lexer": "ipython3",
   "version": "3.13.2"
  }
 },
 "nbformat": 4,
 "nbformat_minor": 4
}
